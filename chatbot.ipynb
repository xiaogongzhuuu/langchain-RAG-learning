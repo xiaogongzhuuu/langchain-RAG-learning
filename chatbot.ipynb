{
 "cells": [
  {
   "cell_type": "code",
   "execution_count": 1,
   "id": "83a0094e",
   "metadata": {},
   "outputs": [],
   "source": [
    "from dotenv import load_dotenv\n",
    "load_dotenv()  \n",
    "import os"
   ]
  },
  {
   "cell_type": "code",
   "execution_count": 3,
   "id": "7f1411f7",
   "metadata": {},
   "outputs": [],
   "source": [
    "from langchain_openai import ChatOpenAI\n",
    "llm=ChatOpenAI(model=\"gpt-4\")"
   ]
  },
  {
   "cell_type": "markdown",
   "id": "2f532e02",
   "metadata": {},
   "source": [
    "以上是基础配置"
   ]
  },
  {
   "cell_type": "code",
   "execution_count": 4,
   "id": "a08e4555",
   "metadata": {},
   "outputs": [
    {
     "data": {
      "text/plain": [
       "AIMessage(content='你好！有什么我可以帮助你的吗？', additional_kwargs={'refusal': None}, response_metadata={'token_usage': {'completion_tokens': 18, 'prompt_tokens': 15, 'total_tokens': 33, 'completion_tokens_details': None, 'prompt_tokens_details': None}, 'model_name': 'gpt-4-turbo-2024-04-09', 'system_fingerprint': 'fp_5603ee5e2e', 'id': 'chatcmpl-BxEjGP9YAGtgZ0iTs5tfU32irkCAm', 'service_tier': None, 'finish_reason': 'stop', 'logprobs': None}, id='run--6c3d2a23-bbce-42fe-a802-c4164bcd19ca-0', usage_metadata={'input_tokens': 15, 'output_tokens': 18, 'total_tokens': 33, 'input_token_details': {}, 'output_token_details': {}})"
      ]
     },
     "execution_count": 4,
     "metadata": {},
     "output_type": "execute_result"
    }
   ],
   "source": [
    "from langchain_core.messages import HumanMessage\n",
    "\n",
    "llm.invoke([HumanMessage(content=\"你好哇,chatgpt\")])"
   ]
  },
  {
   "cell_type": "markdown",
   "id": "7f79e7b9",
   "metadata": {},
   "source": [
    "很遗憾，模型本身在上述这种情况，没有记忆功能，只能使用下面这种方法解决。"
   ]
  },
  {
   "cell_type": "code",
   "execution_count": 6,
   "id": "19aad00b",
   "metadata": {},
   "outputs": [
    {
     "data": {
      "text/plain": [
       "AIMessage(content='你叫Simon。有什么我可以帮助你的吗？', additional_kwargs={'refusal': None}, response_metadata={'token_usage': {'completion_tokens': 20, 'prompt_tokens': 47, 'total_tokens': 67, 'completion_tokens_details': None, 'prompt_tokens_details': None}, 'model_name': 'gpt-4-turbo-2024-04-09', 'system_fingerprint': 'fp_5603ee5e2e', 'id': 'chatcmpl-BxEo8qPGwTu0dMjHMnHMn2VpRtZ1p', 'service_tier': None, 'finish_reason': 'stop', 'logprobs': None}, id='run--b635b947-00db-49f4-a406-0d992f6c36af-0', usage_metadata={'input_tokens': 47, 'output_tokens': 20, 'total_tokens': 67, 'input_token_details': {}, 'output_token_details': {}})"
      ]
     },
     "execution_count": 6,
     "metadata": {},
     "output_type": "execute_result"
    }
   ],
   "source": [
    "from langchain_core.messages import AIMessage\n",
    "\n",
    "llm.invoke(\n",
    "    [\n",
    "        HumanMessage(content=\"你好哇,我叫simon\"),\n",
    "        AIMessage(content=\"你好,simon,我能帮你什么\"),\n",
    "        HumanMessage(content=\"我叫什么名字？\")\n",
    "    ]\n",
    ")"
   ]
  },
  {
   "cell_type": "code",
   "execution_count": null,
   "id": "f72e4900",
   "metadata": {},
   "outputs": [],
   "source": []
  }
 ],
 "metadata": {
  "kernelspec": {
   "display_name": ".venv",
   "language": "python",
   "name": "python3"
  },
  "language_info": {
   "codemirror_mode": {
    "name": "ipython",
    "version": 3
   },
   "file_extension": ".py",
   "mimetype": "text/x-python",
   "name": "python",
   "nbconvert_exporter": "python",
   "pygments_lexer": "ipython3",
   "version": "3.13.3"
  }
 },
 "nbformat": 4,
 "nbformat_minor": 5
}
