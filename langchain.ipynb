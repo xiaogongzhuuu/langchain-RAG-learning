{
 "cells": [
  {
   "cell_type": "code",
   "execution_count": 11,
   "id": "49a40084",
   "metadata": {},
   "outputs": [
    {
     "name": "stdout",
     "output_type": "stream",
     "text": [
      "OPENAI_API_KEY: sk-HGL4d86c43a35160e401c9220683f5337679672ba1bc2Qh3\n",
      "OPENAI_BASE_URL: https://api.gptsapi.net\n",
      "OPENAI_API_BASE: https://api.gptsapi.net/v1\n"
     ]
    }
   ],
   "source": [
    "from dotenv import load_dotenv\n",
    "load_dotenv()  # 会自动读取当前目录下的 .env 文件\n",
    "\n",
    "import os\n",
    "print(\"OPENAI_API_KEY:\", os.getenv(\"OPENAI_API_KEY\"))\n",
    "print(\"OPENAI_BASE_URL:\", os.getenv(\"OPENAI_BASE_URL\"))\n",
    "print(\"OPENAI_API_BASE:\", os.getenv(\"OPENAI_API_BASE\"))\n"
   ]
  }
 ],
 "metadata": {
  "kernelspec": {
   "display_name": ".venv",
   "language": "python",
   "name": "python3"
  },
  "language_info": {
   "codemirror_mode": {
    "name": "ipython",
    "version": 3
   },
   "file_extension": ".py",
   "mimetype": "text/x-python",
   "name": "python",
   "nbconvert_exporter": "python",
   "pygments_lexer": "ipython3",
   "version": "3.13.3"
  }
 },
 "nbformat": 4,
 "nbformat_minor": 5
}
