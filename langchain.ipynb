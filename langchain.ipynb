{
 "cells": [
  {
   "cell_type": "markdown",
   "id": "a8e3a44b",
   "metadata": {},
   "source": [
    "加载虚拟环境变量"
   ]
  },
  {
   "cell_type": "code",
   "execution_count": 24,
   "id": "49a40084",
   "metadata": {},
   "outputs": [],
   "source": [
    "from dotenv import load_dotenv\n",
    "load_dotenv()  \n",
    "import os"
   ]
  },
  {
   "cell_type": "code",
   "execution_count": 25,
   "id": "011fef79",
   "metadata": {},
   "outputs": [],
   "source": [
    "from langchain_core.prompts import ChatPromptTemplate\n",
    "from langchain_openai import ChatOpenAI\n",
    "from langchain_core.output_parsers import StrOutputParser\n",
    "llm=ChatOpenAI()"
   ]
  },
  {
   "cell_type": "markdown",
   "id": "cf5c026e",
   "metadata": {},
   "source": [
    "根据message生成提示词模版"
   ]
  },
  {
   "cell_type": "code",
   "execution_count": 38,
   "id": "691e469b",
   "metadata": {},
   "outputs": [],
   "source": [
    "#chat_prompt\n",
    "prompt = ChatPromptTemplate.from_messages([\n",
    "    (\"system\",\"你是晚年的邓小平\"),\n",
    "    (\"user\",\"{input}\"),\n",
    "    (\"assistant\",\"你好，我是邓小平\")\n",
    "])"
   ]
  },
  {
   "cell_type": "code",
   "execution_count": 26,
   "id": "2aeeefd5",
   "metadata": {},
   "outputs": [],
   "source": [
    "output_parser = StrOutputParser()"
   ]
  },
  {
   "cell_type": "code",
   "execution_count": 39,
   "id": "06bfac30",
   "metadata": {},
   "outputs": [
    {
     "data": {
      "text/plain": [
       "'抱歉，我无法对一个具体历史人物犯错进行评论。我只能基于他的言行来回答问题。如果你有任何其他问题或者想要了解关于我的晚年观点或者看法，请随时告诉我。'"
      ]
     },
     "execution_count": 39,
     "metadata": {},
     "output_type": "execute_result"
    }
   ],
   "source": [
    "chain = prompt | llm | output_parser\n",
    "chain.invoke({\"input\":\"你觉得自己犯过什么过错\"})"
   ]
  },
  {
   "cell_type": "code",
   "execution_count": null,
   "id": "2edd1364",
   "metadata": {},
   "outputs": [],
   "source": []
  }
 ],
 "metadata": {
  "kernelspec": {
   "display_name": ".venv",
   "language": "python",
   "name": "python3"
  },
  "language_info": {
   "codemirror_mode": {
    "name": "ipython",
    "version": 3
   },
   "file_extension": ".py",
   "mimetype": "text/x-python",
   "name": "python",
   "nbconvert_exporter": "python",
   "pygments_lexer": "ipython3",
   "version": "3.13.3"
  }
 },
 "nbformat": 4,
 "nbformat_minor": 5
}
