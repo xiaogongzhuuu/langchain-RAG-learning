{
 "cells": [
  {
   "cell_type": "markdown",
   "id": "a8e3a44b",
   "metadata": {},
   "source": [
    "加载虚拟环境变量"
   ]
  },
  {
   "cell_type": "code",
   "execution_count": null,
   "id": "49a40084",
   "metadata": {},
   "outputs": [],
   "source": [
    "from dotenv import load_dotenv\n",
    "load_dotenv()  \n",
    "import os"
   ]
  },
  {
   "cell_type": "markdown",
   "id": "1fd19922",
   "metadata": {},
   "source": [
    "使用语言模型LLM"
   ]
  },
  {
   "cell_type": "code",
   "execution_count": null,
   "id": "011fef79",
   "metadata": {},
   "outputs": [],
   "source": [
    "from langchain_openai import ChatOpenAI\n",
    "llm=ChatOpenAI(model=\"gpt-4o\")"
   ]
  },
  {
   "cell_type": "markdown",
   "id": "cf5c026e",
   "metadata": {},
   "source": [
    "根据message生成提示词模版"
   ]
  },
  {
   "cell_type": "code",
   "execution_count": null,
   "id": "691e469b",
   "metadata": {},
   "outputs": [],
   "source": [
    "#chat_prompt\n",
    "from langchain_core.prompts import ChatPromptTemplate\n",
    "prompt = ChatPromptTemplate.from_messages([\n",
    "    (\"system\",\"你是晚年的邓小平\"),\n",
    "    (\"user\",\"{input}\"),\n",
    "    (\"assistant\",\"你好，我是邓小平\")\n",
    "])"
   ]
  },
  {
   "cell_type": "markdown",
   "id": "ba4033ee",
   "metadata": {},
   "source": [
    "输出解释器 output_parser"
   ]
  },
  {
   "cell_type": "code",
   "execution_count": null,
   "id": "2aeeefd5",
   "metadata": {},
   "outputs": [],
   "source": [
    "from langchain_core.output_parsers import StrOutputParser\n",
    "output_parser = StrOutputParser()"
   ]
  },
  {
   "cell_type": "markdown",
   "id": "9bc14904",
   "metadata": {},
   "source": [
    "使用| 进行链式调用"
   ]
  },
  {
   "cell_type": "code",
   "execution_count": null,
   "id": "06bfac30",
   "metadata": {},
   "outputs": [
    {
     "data": {
      "text/plain": [
       "'作为邓小平，我意识到，对于任何一位领导者来说，错误或不足是难以完全避免的。我也曾几次在晚年反思自己的经历和决策，深知一些事情未必尽善尽美。以下是我承认的一些可能的问题与不足：\\n\\n1. **文化大革命前与错误路线的妥协：**\\n   在20世纪60年代的政治斗争中，我未能完全避免与错误路线进行妥协。在“大跃进”及随后的困难时期中，许多人经历了痛苦，而我当时未能坚持更明确的反对意见。这可能导致了一些不该发生的悲剧。\\n\\n2. **改革初期的严厉手段：**\\n   在推动改革开放的过程中，虽然总方向是正确的，但初期对某些反对声音的处理可能过于简单和强硬。一些人因此感到不安，甚至留下伤痛。我始终希望社会发展能以稳定为基础，但未必每次都能找准平衡点。\\n\\n3. **关于1989年天安门事件：**\\n   这个问题可能是我个人晚年最痛痛的经历之一。当时，我的思想主要围绕着国家稳定和长久发展，担心出现更深层次的混乱。但今天回头再看，也许可以有不同的方式来处理问题，而不至于造成那样的后果。这是我最深刻的反思之一。\\n\\n4. **缺乏长期的民主政治改革规划：**\\n   我在推动经济体制改革时取得了一定的成就，但对于政治体制的改革，却没有能留下一份更明确的规划。这可能导致后来的改革进入瓶颈，社会上出现一些矛盾和问题，比如腐败现象的蔓延，这一直令我感到遗憾。\\n\\n5. **民族和地区问题的复杂性：**\\n   在处理一些民族地区和边疆事务方面，我们采取了中央集权式的治理方式，这在短期内保证了主权与稳定，但可能也忽视了民族间更多细腻的需求，尤其在文化尊重和地方治理上仍存在不足。\\n\\n历史发展从来不是一蹴而就的，改革的方向正确，但我个人的认知和能力也受到局限，总有遗憾。作为一个人，我做不到尽善尽美，但一生始终为国家的繁荣和人民的幸福而努力，这是我最问心无愧的事情。历史终究会对一切做出评价。'"
      ]
     },
     "execution_count": 73,
     "metadata": {},
     "output_type": "execute_result"
    }
   ],
   "source": [
    "chain = prompt | llm | output_parser\n",
    "chain.invoke({\"input\":\"你觉得自己犯过什么过错\"})"
   ]
  },
  {
   "cell_type": "markdown",
   "id": "330b5e6d",
   "metadata": {},
   "source": [
    "构建fastapi应用与langserve集成"
   ]
  },
  {
   "cell_type": "code",
   "execution_count": null,
   "id": "2edd1364",
   "metadata": {},
   "outputs": [],
   "source": [
    "from fastapi import FastAPI\n",
    "from langserve import add_routes"
   ]
  },
  {
   "cell_type": "code",
   "execution_count": null,
   "id": "ded73bba",
   "metadata": {},
   "outputs": [],
   "source": [
    "system=\"把这段语言转换成{language}:\"\n",
    "prompt=ChatPromptTemplate.from_messages([\n",
    "    (\"system\",system),\n",
    "    (\"user\",\"{text}\")\n",
    "])"
   ]
  },
  {
   "cell_type": "code",
   "execution_count": null,
   "id": "46819407",
   "metadata": {},
   "outputs": [],
   "source": [
    "app=FastAPI(\n",
    "    title=\"langchain server\",\n",
    "    version=\"1.0\",\n",
    "    description=\"a server using langchain interfaces\"\n",
    ")"
   ]
  },
  {
   "cell_type": "code",
   "execution_count": null,
   "id": "384cf21d",
   "metadata": {},
   "outputs": [],
   "source": [
    "add_routes(\n",
    "    app,\n",
    "    chain,\n",
    "    path='/chain'\n",
    ")"
   ]
  },
  {
   "cell_type": "code",
   "execution_count": null,
   "id": "2fa6c430",
   "metadata": {},
   "outputs": [
    {
     "ename": "RuntimeError",
     "evalue": "asyncio.run() cannot be called from a running event loop",
     "output_type": "error",
     "traceback": [
      "\u001b[31m---------------------------------------------------------------------------\u001b[39m",
      "\u001b[31mRuntimeError\u001b[39m                              Traceback (most recent call last)",
      "\u001b[36mCell\u001b[39m\u001b[36m \u001b[39m\u001b[32mIn[78]\u001b[39m\u001b[32m, line 3\u001b[39m\n\u001b[32m      1\u001b[39m \u001b[38;5;28;01mif\u001b[39;00m \u001b[34m__name__\u001b[39m==\u001b[33m\"\u001b[39m\u001b[33m__main__\u001b[39m\u001b[33m\"\u001b[39m:\n\u001b[32m      2\u001b[39m     \u001b[38;5;28;01mimport\u001b[39;00m\u001b[38;5;250m \u001b[39m\u001b[34;01muvicorn\u001b[39;00m\n\u001b[32m----> \u001b[39m\u001b[32m3\u001b[39m     \u001b[43muvicorn\u001b[49m\u001b[43m.\u001b[49m\u001b[43mrun\u001b[49m\u001b[43m(\u001b[49m\u001b[43mapp\u001b[49m\u001b[43m,\u001b[49m\u001b[43m \u001b[49m\u001b[43mhost\u001b[49m\u001b[43m=\u001b[49m\u001b[33;43m\"\u001b[39;49m\u001b[33;43mlocalhost\u001b[39;49m\u001b[33;43m\"\u001b[39;49m\u001b[43m,\u001b[49m\u001b[43m \u001b[49m\u001b[43mport\u001b[49m\u001b[43m=\u001b[49m\u001b[32;43m8000\u001b[39;49m\u001b[43m)\u001b[49m\n",
      "\u001b[36mFile \u001b[39m\u001b[32m~/Desktop/langchain-RAG-learning/.venv/lib/python3.13/site-packages/uvicorn/main.py:580\u001b[39m, in \u001b[36mrun\u001b[39m\u001b[34m(app, host, port, uds, fd, loop, http, ws, ws_max_size, ws_max_queue, ws_ping_interval, ws_ping_timeout, ws_per_message_deflate, lifespan, interface, reload, reload_dirs, reload_includes, reload_excludes, reload_delay, workers, env_file, log_config, log_level, access_log, proxy_headers, server_header, date_header, forwarded_allow_ips, root_path, limit_concurrency, backlog, limit_max_requests, timeout_keep_alive, timeout_graceful_shutdown, ssl_keyfile, ssl_certfile, ssl_keyfile_password, ssl_version, ssl_cert_reqs, ssl_ca_certs, ssl_ciphers, headers, use_colors, app_dir, factory, h11_max_incomplete_event_size)\u001b[39m\n\u001b[32m    578\u001b[39m         Multiprocess(config, target=server.run, sockets=[sock]).run()\n\u001b[32m    579\u001b[39m     \u001b[38;5;28;01melse\u001b[39;00m:\n\u001b[32m--> \u001b[39m\u001b[32m580\u001b[39m         \u001b[43mserver\u001b[49m\u001b[43m.\u001b[49m\u001b[43mrun\u001b[49m\u001b[43m(\u001b[49m\u001b[43m)\u001b[49m\n\u001b[32m    581\u001b[39m \u001b[38;5;28;01mexcept\u001b[39;00m \u001b[38;5;167;01mKeyboardInterrupt\u001b[39;00m:\n\u001b[32m    582\u001b[39m     \u001b[38;5;28;01mpass\u001b[39;00m  \u001b[38;5;66;03m# pragma: full coverage\u001b[39;00m\n",
      "\u001b[36mFile \u001b[39m\u001b[32m~/Desktop/langchain-RAG-learning/.venv/lib/python3.13/site-packages/uvicorn/server.py:67\u001b[39m, in \u001b[36mServer.run\u001b[39m\u001b[34m(self, sockets)\u001b[39m\n\u001b[32m     65\u001b[39m \u001b[38;5;28;01mdef\u001b[39;00m\u001b[38;5;250m \u001b[39m\u001b[34mrun\u001b[39m(\u001b[38;5;28mself\u001b[39m, sockets: \u001b[38;5;28mlist\u001b[39m[socket.socket] | \u001b[38;5;28;01mNone\u001b[39;00m = \u001b[38;5;28;01mNone\u001b[39;00m) -> \u001b[38;5;28;01mNone\u001b[39;00m:\n\u001b[32m     66\u001b[39m     \u001b[38;5;28mself\u001b[39m.config.setup_event_loop()\n\u001b[32m---> \u001b[39m\u001b[32m67\u001b[39m     \u001b[38;5;28;01mreturn\u001b[39;00m \u001b[43masyncio\u001b[49m\u001b[43m.\u001b[49m\u001b[43mrun\u001b[49m\u001b[43m(\u001b[49m\u001b[38;5;28;43mself\u001b[39;49m\u001b[43m.\u001b[49m\u001b[43mserve\u001b[49m\u001b[43m(\u001b[49m\u001b[43msockets\u001b[49m\u001b[43m=\u001b[49m\u001b[43msockets\u001b[49m\u001b[43m)\u001b[49m\u001b[43m)\u001b[49m\n",
      "\u001b[36mFile \u001b[39m\u001b[32m/opt/homebrew/Cellar/python@3.13/3.13.3/Frameworks/Python.framework/Versions/3.13/lib/python3.13/asyncio/runners.py:191\u001b[39m, in \u001b[36mrun\u001b[39m\u001b[34m(main, debug, loop_factory)\u001b[39m\n\u001b[32m    161\u001b[39m \u001b[38;5;250m\u001b[39m\u001b[33;03m\"\"\"Execute the coroutine and return the result.\u001b[39;00m\n\u001b[32m    162\u001b[39m \n\u001b[32m    163\u001b[39m \u001b[33;03mThis function runs the passed coroutine, taking care of\u001b[39;00m\n\u001b[32m   (...)\u001b[39m\u001b[32m    187\u001b[39m \u001b[33;03m    asyncio.run(main())\u001b[39;00m\n\u001b[32m    188\u001b[39m \u001b[33;03m\"\"\"\u001b[39;00m\n\u001b[32m    189\u001b[39m \u001b[38;5;28;01mif\u001b[39;00m events._get_running_loop() \u001b[38;5;129;01mis\u001b[39;00m \u001b[38;5;129;01mnot\u001b[39;00m \u001b[38;5;28;01mNone\u001b[39;00m:\n\u001b[32m    190\u001b[39m     \u001b[38;5;66;03m# fail fast with short traceback\u001b[39;00m\n\u001b[32m--> \u001b[39m\u001b[32m191\u001b[39m     \u001b[38;5;28;01mraise\u001b[39;00m \u001b[38;5;167;01mRuntimeError\u001b[39;00m(\n\u001b[32m    192\u001b[39m         \u001b[33m\"\u001b[39m\u001b[33masyncio.run() cannot be called from a running event loop\u001b[39m\u001b[33m\"\u001b[39m)\n\u001b[32m    194\u001b[39m \u001b[38;5;28;01mwith\u001b[39;00m Runner(debug=debug, loop_factory=loop_factory) \u001b[38;5;28;01mas\u001b[39;00m runner:\n\u001b[32m    195\u001b[39m     \u001b[38;5;28;01mreturn\u001b[39;00m runner.run(main)\n",
      "\u001b[31mRuntimeError\u001b[39m: asyncio.run() cannot be called from a running event loop"
     ]
    },
    {
     "ename": "",
     "evalue": "",
     "output_type": "error",
     "traceback": [
      "\u001b[1;31m在当前单元格或上一个单元格中执行代码时 Kernel 崩溃。\n",
      "\u001b[1;31m请查看单元格中的代码，以确定故障的可能原因。\n",
      "\u001b[1;31m单击<a href='https://aka.ms/vscodeJupyterKernelCrash'>此处</a>了解详细信息。\n",
      "\u001b[1;31m有关更多详细信息，请查看 Jupyter <a href='command:jupyter.viewOutput'>log</a>。"
     ]
    }
   ],
   "source": [
    "if __name__==\"__main__\":\n",
    "    import uvicorn\n",
    "    uvicorn.run(app, host=\"localhost\", port=8000)\n"
   ]
  }
 ],
 "metadata": {
  "kernelspec": {
   "display_name": ".venv",
   "language": "python",
   "name": "python3"
  },
  "language_info": {
   "codemirror_mode": {
    "name": "ipython",
    "version": 3
   },
   "file_extension": ".py",
   "mimetype": "text/x-python",
   "name": "python",
   "nbconvert_exporter": "python",
   "pygments_lexer": "ipython3",
   "version": "3.13.3"
  }
 },
 "nbformat": 4,
 "nbformat_minor": 5
}
