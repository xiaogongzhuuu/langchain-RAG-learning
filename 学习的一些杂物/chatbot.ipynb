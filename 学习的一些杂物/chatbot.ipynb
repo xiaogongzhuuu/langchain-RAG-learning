{
 "cells": [
  {
   "cell_type": "code",
   "execution_count": 13,
   "id": "83a0094e",
   "metadata": {},
   "outputs": [],
   "source": [
    "from dotenv import load_dotenv\n",
    "load_dotenv()  \n",
    "import os"
   ]
  },
  {
   "cell_type": "code",
   "execution_count": 20,
   "id": "7f1411f7",
   "metadata": {},
   "outputs": [],
   "source": [
    "from langchain_openai import ChatOpenAI\n",
    "llm=ChatOpenAI(model=\"gpt-4\",temperature=0)"
   ]
  },
  {
   "cell_type": "markdown",
   "id": "2f532e02",
   "metadata": {},
   "source": [
    "以上是基础配置"
   ]
  },
  {
   "cell_type": "code",
   "execution_count": 21,
   "id": "a08e4555",
   "metadata": {},
   "outputs": [
    {
     "data": {
      "text/plain": [
       "AIMessage(content='人生的意义因人而异，每个人都有自己的价值观和目标。对一些人来说，人生的意义可能在于追求幸福、成就、爱情或个人成长。对其他人来说，意义可能在于帮助他人、贡献社会或实现精神上的满足。总的来说，人生的意义是一个深刻且个人化的问题，每个人都可以根据自己的经历和信念来探索和定义。', additional_kwargs={'refusal': None}, response_metadata={'token_usage': {'completion_tokens': 150, 'prompt_tokens': 14, 'total_tokens': 164, 'completion_tokens_details': None, 'prompt_tokens_details': None}, 'model_name': 'gpt-4-turbo', 'system_fingerprint': 'fp_5603ee5e2e', 'id': 'chatcmpl-BzOMsuFJteCtq3IThgezH3vVHlvOp', 'service_tier': None, 'finish_reason': 'stop', 'logprobs': None}, id='run--064f76f6-894f-46da-8a42-f4b2f0e6f88d-0', usage_metadata={'input_tokens': 14, 'output_tokens': 150, 'total_tokens': 164, 'input_token_details': {}, 'output_token_details': {}})"
      ]
     },
     "execution_count": 21,
     "metadata": {},
     "output_type": "execute_result"
    }
   ],
   "source": [
    "from langchain_core.messages import HumanMessage\n",
    "\n",
    "llm.invoke([HumanMessage(content=\"人生存在意义吗\")])"
   ]
  },
  {
   "cell_type": "markdown",
   "id": "7f79e7b9",
   "metadata": {},
   "source": [
    "很遗憾，模型本身在上述这种情况，没有记忆功能，只能使用下面这种方法解决。"
   ]
  },
  {
   "cell_type": "code",
   "execution_count": null,
   "id": "19aad00b",
   "metadata": {},
   "outputs": [
    {
     "data": {
      "text/plain": [
       "AIMessage(content='你刚才告诉我你叫Simon。', additional_kwargs={'refusal': None}, response_metadata={'token_usage': {'completion_tokens': 14, 'prompt_tokens': 47, 'total_tokens': 61, 'completion_tokens_details': None, 'prompt_tokens_details': None}, 'model_name': 'gpt-4-turbo', 'system_fingerprint': 'fp_5603ee5e2e', 'id': 'chatcmpl-BzOL4YSBT69YPElRMkC14LllIuNDS', 'service_tier': None, 'finish_reason': 'stop', 'logprobs': None}, id='run--f56115e6-e4dc-44b9-8ea6-b6fe56e30160-0', usage_metadata={'input_tokens': 47, 'output_tokens': 14, 'total_tokens': 61, 'input_token_details': {}, 'output_token_details': {}})"
      ]
     },
     "execution_count": 8,
     "metadata": {},
     "output_type": "execute_result"
    }
   ],
   "source": [
    "from langchain_core.messages import AIMessage\n",
    "\n",
    "llm.invoke(\n",
    "    [\n",
    "        HumanMessage(content=\"你好哇,我叫simon\"),\n",
    "        AIMessage(content=\"你好,simon,我能帮你什么\"),\n",
    "        HumanMessage(content=\"我叫什么名字？\")\n",
    "    ]\n",
    ")"
   ]
  },
  {
   "cell_type": "code",
   "execution_count": null,
   "id": "f72e4900",
   "metadata": {},
   "outputs": [],
   "source": [
    "from langchain_core.chat_history import(\n",
    "    BaseChatMessageHistory,\n",
    "    InMemoryChatMessageHistory\n",
    ")\n",
    "from langchain_core.runnables.history import RunnableWithMessageHistory"
   ]
  }
 ],
 "metadata": {
  "kernelspec": {
   "display_name": ".venv",
   "language": "python",
   "name": "python3"
  },
  "language_info": {
   "codemirror_mode": {
    "name": "ipython",
    "version": 3
   },
   "file_extension": ".py",
   "mimetype": "text/x-python",
   "name": "python",
   "nbconvert_exporter": "python",
   "pygments_lexer": "ipython3",
   "version": "3.13.3"
  }
 },
 "nbformat": 4,
 "nbformat_minor": 5
}
